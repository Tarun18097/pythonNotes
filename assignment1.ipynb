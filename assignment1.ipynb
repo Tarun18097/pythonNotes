{
 "cells": [
  {
   "cell_type": "markdown",
   "id": "65ac9d81-5e87-416a-9867-c103e0144146",
   "metadata": {},
   "source": [
    "![python script screenshot](./images/python1.png)"
   ]
  },
  {
   "cell_type": "markdown",
   "id": "709c1a9c-ccaf-4f65-8367-c207f3813912",
   "metadata": {},
   "source": [
    "![using idle to print hello world](./images/python2.png)"
   ]
  },
  {
   "cell_type": "code",
   "execution_count": 4,
   "id": "3b3dcf30-1ec4-45c8-83d8-625cdd6d53ac",
   "metadata": {},
   "outputs": [
    {
     "name": "stdout",
     "output_type": "stream",
     "text": [
      " \n"
     ]
    }
   ],
   "source": [
    "first_name = input(\"Enter your first name: \") # taking user first name as input\n",
    "last_name  = input(\"Enter your last name: \") \n",
    "''' \n",
    "we can use reversed function which returns a iterator and that will give us elements in reverse order. \n",
    "remember it doesn't create a reverse copy it just creates the iterator\n",
    "in order to access the elements you need to create a list or any structure and then it just appends the elements in reverse order\n",
    "'''\n",
    "first_name_reversed_iterator = reversed(first_name)\n",
    "last_name_reversed_iterator = reversed(last_name)\n",
    "reversed_first_name = ''.join(first_name_reversed_iterator) # join method is used to concate any number of strings where is '' is a seperator \n",
    "\n",
    "reversed_last_name = ''.join(last_name_reversed_iterator) # '' this is empty string that means there will be nothing b/w the strings which you will concate\n",
    "print(reversed_last_name + \" \" + reversed_first_name)"
   ]
  },
  {
   "cell_type": "code",
   "execution_count": 1,
   "id": "ca1ac045-60e6-4e6f-b8cc-7f98182e67ce",
   "metadata": {},
   "outputs": [
    {
     "name": "stdout",
     "output_type": "stream",
     "text": [
      "user entered: 5 and its type is <class 'int'>\n",
      "5.0\n",
      "(5+0j)\n"
     ]
    },
    {
     "data": {
      "text/plain": [
       "\"\\nint vs float vs complex \\ninteger is a data type in python that is used to store whole numbers and you can store very large number because in python int's memory size in bytes is not fixed and python interpreter dynamically allocates more memory if it is required to store a particular number.\\n\\nfloat is a data type that stores floating point number(decimal parts are included)\\n\\ncomplex number is used to represent both real and imaginary part it is for mathematical operations that has complex number in it.\\n\""
      ]
     },
     "execution_count": 1,
     "metadata": {},
     "output_type": "execute_result"
    }
   ],
   "source": [
    "user_num = input(\"Enter a number: \") # user_num will be a string\n",
    "\n",
    "# to convert user_num into int we can use typecasting\n",
    "user_num = int(user_num)\n",
    "print(f\"user entered: {user_num} and its type is {type(user_num)}\")\n",
    "\n",
    "# to convert this into float\n",
    "user_num = float(user_num)\n",
    "print(user_num)\n",
    "\n",
    "# complex number form\n",
    "user_num = complex(user_num)\n",
    "print(user_num)\n",
    "\n",
    "'''\n",
    "int vs float vs complex \n",
    "integer is a data type in python that is used to store whole numbers and you can store very large number because in python int's memory size in bytes is not fixed and python interpreter dynamically allocates more memory if it is required to store a particular number.\n",
    "\n",
    "float is a data type that stores floating point number(decimal parts are included)\n",
    "\n",
    "complex number is used to represent both real and imaginary part it is for mathematical operations that has complex number in it.\n",
    "'''\n",
    "\n"
   ]
  },
  {
   "cell_type": "code",
   "execution_count": 2,
   "id": "2980bbd9-8809-4af5-b333-fcfa6ee54ebf",
   "metadata": {},
   "outputs": [],
   "source": [
    "length = input(\"Enter length of the object: \")\n",
    "width = input(\"Enter width of the object; \")\n",
    "\n",
    "area = (int(length) * int(width))\n",
    "print(\"Area of the given object is: \", area)\n",
    "# using format .2f format specifier adds two zeroes after the decimal part in python\n",
    "formatted_area = \"{:.2f}\".format(area)\n",
    "print(\"area with two decimal places: \",formatted_area)"
   ]
  },
  {
   "cell_type": "code",
   "execution_count": null,
   "id": "d8e92947-c53c-49d9-a443-b3da25f93a3b",
   "metadata": {},
   "outputs": [
    {
     "name": "stdout",
     "output_type": "stream",
     "text": [
      "Enter num1:  1\n",
      "Enter num2:  2\n",
      "Enter num3:  3\n"
     ]
    },
    {
     "name": "stdout",
     "output_type": "stream",
     "text": [
      "Avg of 1, 2 and 3 is: 2.00\n",
      "The average of the three numbers is:  2.0\n"
     ]
    }
   ],
   "source": [
    "num1 = input(\"Enter num1: \")\n",
    "num2 = input(\"Enter num2: \")\n",
    "num3 = input(\"Enter num3: \")\n",
    "\n",
    "avg_of_all_nums = (int(num1) + int(num2) + int(num3)) / 3\n",
    "\"\"\" \n",
    "using the % format specifier \n",
    "\" %placeholder1 \" %placeHoldersValue\n",
    "%s for string, %d for integers, %f for floats.\n",
    "\n",
    "\"\"\"\n",
    "formatted_string = \"Avg of %s, %s and %s is: %.2f\" %(num1,num2,num3,avg_of_all_nums)\n",
    "print(formatted_string)\n",
    "\n",
    "\n",
    "print(\"The average of the three numbers is: \",avg_of_all_nums)"
   ]
  },
  {
   "cell_type": "code",
   "execution_count": null,
   "id": "c9b169ff-d4d5-4eba-9371-dd6144cd45e4",
   "metadata": {},
   "outputs": [
    {
     "name": "stdout",
     "output_type": "stream",
     "text": [
      "Enter a number:  -251698419\n"
     ]
    },
    {
     "name": "stdout",
     "output_type": "stream",
     "text": [
      "Entered number is negative\n",
      "You can exit the loop by typing exit\n"
     ]
    },
    {
     "name": "stdout",
     "output_type": "stream",
     "text": [
      "Enter a number:  -51658\\\n"
     ]
    },
    {
     "name": "stdout",
     "output_type": "stream",
     "text": [
      "You can exit the loop by typing exit\n"
     ]
    },
    {
     "name": "stdout",
     "output_type": "stream",
     "text": [
      "Enter a number:  dfa\n"
     ]
    },
    {
     "name": "stdout",
     "output_type": "stream",
     "text": [
      "You can exit the loop by typing exit\n"
     ]
    },
    {
     "name": "stdout",
     "output_type": "stream",
     "text": [
      "Enter a number:  exit\n"
     ]
    }
   ],
   "source": [
    "num = int(input(\"Enter a number: \"))\n",
    "\n",
    "if num < 0:\n",
    "    print(\"Entered number is negative\")\n",
    "elif num > 0:\n",
    "    print(\"Entered number is positive\")\n",
    "else: \n",
    "    print(\"Entered number is zero\")\n",
    "\n",
    "while True:\n",
    "    print(\"You can exit the loop by typing exit\")\n",
    "    user_num = input(\"Enter a number: \")\n",
    "    if user_num == 'exit':\n",
    "        break\n",
    "    else:\n",
    "        continue"
   ]
  },
  {
   "cell_type": "code",
   "execution_count": null,
   "id": "c27302b2-65d7-4994-a270-71d75fe47411",
   "metadata": {},
   "outputs": [
    {
     "name": "stdout",
     "output_type": "stream",
     "text": [
      "Enter num1:  5\n",
      "Enter num2:  5\n"
     ]
    },
    {
     "name": "stdout",
     "output_type": "stream",
     "text": [
      "Both numbers are odd\n"
     ]
    }
   ],
   "source": [
    "num1 = int(input(\"Enter num1: \"))\n",
    "num2 = int(input(\"Enter num2: \"))\n",
    "\n",
    "# check if both of them are even\n",
    "\n",
    "if ((num1 & 1 == 0) and (num2 & 1 == 0)):\n",
    "    print(\"Both numbers are even\")\n",
    "elif ((num1 & 1 == 0) and (num2 & 1 != 0)):\n",
    "    print(\"Num1 is even but Num2 is odd\")\n",
    "elif((num1 & 1 != 0) and (num2 & 1 == 0)):\n",
    "    print(\"Num1 is odd but Num2 is even\")\n",
    "else:\n",
    "    print(\"Both numbers are odd\")\n"
   ]
  },
  {
   "cell_type": "code",
   "execution_count": null,
   "id": "17498414-2b04-455b-bc94-127c80281c5b",
   "metadata": {},
   "outputs": [
    {
     "name": "stdout",
     "output_type": "stream",
     "text": [
      "1010\n",
      "12\n",
      "A\n"
     ]
    }
   ],
   "source": [
    "def decimal_to_binary(num, no_of_bits):\n",
    "    binary = \"\"\n",
    "    for i in range(no_of_bits -1, -1, -1):\n",
    "        bit = (num >> i) & 1 # >> this shifts the bit and to isolate and extract that bit we use & and masks it with 1 \n",
    "        binary += str(bit)\n",
    "    return binary\n",
    "\n",
    "def decimal_to_octal(n):\n",
    "    if n == 0:\n",
    "        return '0'\n",
    "    \n",
    "    octal_result = 0\n",
    "    place_value = 1\n",
    "    \n",
    "    while n > 0:\n",
    "        # extract last three bits \n",
    "        last_three_bits = n & 7  # as 7 is 111 in binary\n",
    "\n",
    "        octal_result += last_three_bits * place_value\n",
    "        # Shift the number 3 bits to the right\n",
    "        n >>= 3\n",
    "        # Update the place value \n",
    "        place_value *= 10\n",
    "    \n",
    "    return str(octal_result)\n",
    "\n",
    "def decimal_to_hexadecimal(n):\n",
    "    if n == 0:\n",
    "        return '0'\n",
    "    \n",
    "    hex_digits = '0123456789ABCDEF'  # Characters representing hexadecimal digits\n",
    "    hex_result = ''\n",
    "    \n",
    "    while n > 0:\n",
    "        # Extract the last four bits\n",
    "        last_four_bits = n & 15  # 15 is 111 in binary\n",
    "        hex_digit = hex_digits[last_four_bits]\n",
    "\n",
    "        hex_result = hex_digit + hex_result\n",
    "        # Shift the number 4 bits to the right\n",
    "        n >>= 4\n",
    "    \n",
    "    return hex_result\n",
    "\n",
    "\n",
    "    \n",
    "\n",
    "num = int(input(\"Enter a nxumber: \")) # taking input from user\n",
    "\n",
    "no_of_bits_required = num.bit_length() # this will return the no. of bits required for the number to represent in binary\n",
    "print (decimal_to_binary(num,no_of_bits_required))\n",
    "print(decimal_to_octal(num))\n",
    "print(decimal_to_hexadecimal(num))\n",
    "\n",
    "\n",
    "\n"
   ]
  }
 ],
 "metadata": {
  "kernelspec": {
   "display_name": "Python 3 (ipykernel)",
   "language": "python",
   "name": "python3"
  },
  "language_info": {
   "codemirror_mode": {
    "name": "ipython",
    "version": 3
   },
   "file_extension": ".py",
   "mimetype": "text/x-python",
   "name": "python",
   "nbconvert_exporter": "python",
   "pygments_lexer": "ipython3",
   "version": "3.10.12"
  }
 },
 "nbformat": 4,
 "nbformat_minor": 5
}
