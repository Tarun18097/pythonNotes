{
 "cells": [
  {
   "cell_type": "code",
   "execution_count": 4,
   "id": "9c52f67e-39c8-4a67-ba3c-a421af9276df",
   "metadata": {},
   "outputs": [
    {
     "name": "stdout",
     "output_type": "stream",
     "text": [
      "Hello, Tarun!\n",
      "Goodmorning, Tarun!\n"
     ]
    }
   ],
   "source": [
    "#1. Basic Function Implementation.\n",
    "def greet(name, greeting=\"Hello\"):\n",
    "    return f\"{greeting}, {name}!\"\n",
    "\n",
    "\n",
    "print(greet(\"Tarun\"))\n",
    "# if we provide second string as an argument that will replace the default string greeting.\n",
    "print(greet(\"Tarun\", \"Goodmorning\"))"
   ]
  },
  {
   "cell_type": "code",
   "execution_count": 5,
   "id": "8b01b3bb",
   "metadata": {},
   "outputs": [
    {
     "name": "stdout",
     "output_type": "stream",
     "text": [
      "Name: Tarun, Age: 18, City: Dehradun\n",
      "Name: Om, Age: 20, City: Dehradun\n"
     ]
    }
   ],
   "source": [
    "#2. Named Arguments aka keyword arguments.\n",
    "\n",
    "# these arguments are passed to the function by explicitly specifying the name of the parameter along with its value.\n",
    "\n",
    "def create_profile(name,city,age=18):\n",
    "    return f\"Name: {name}, Age: {age}, City: {city}\"\n",
    "\n",
    "print(create_profile(name=\"Tarun\", city=\"Dehradun\"))\n",
    "print(create_profile(name=\"Om\", age=20, city=\"Dehradun\"))\n",
    "\n",
    "\n"
   ]
  },
  {
   "cell_type": "code",
   "execution_count": 18,
   "id": "dd69ea26",
   "metadata": {},
   "outputs": [
    {
     "name": "stdout",
     "output_type": "stream",
     "text": [
      "ERROR: 3 is not a number in provided arguments\n"
     ]
    },
    {
     "data": {
      "text/plain": [
       "(6, {'x': 1, 'y': 2})"
      ]
     },
     "execution_count": 18,
     "metadata": {},
     "output_type": "execute_result"
    }
   ],
   "source": [
    "#3. using *args (Non keyword args) and **kwargs (keyword args).\n",
    "\n",
    "# it is used to pass any number of arguments in a function.\n",
    "\n",
    "def sum_numbers(*args, **kwargs):\n",
    "    sum = 0\n",
    "    # check if arg is a number \n",
    "    for arg in args:\n",
    "        if not (isinstance(arg,(int,float,complex))): # checks if arg is an instance of int, float or complex type.\n",
    "            return print(f\"ERROR: {arg} is not a number in provided arguments\")\n",
    "        else:\n",
    "            sum += arg\n",
    "\n",
    "    return (sum, kwargs)  # this returns a tuple with two values sum and kwargs.\n",
    "                            # even if you do return sum, kwargs it would still return a tuple.\n",
    "\n",
    "sum_numbers(1,2,\"3\",4, x='1',y='2')\n",
    "sum_numbers(1,2,3, x=1,y=2)"
   ]
  },
  {
   "cell_type": "code",
   "execution_count": 28,
   "id": "1f6cf097",
   "metadata": {},
   "outputs": [
    {
     "name": "stdout",
     "output_type": "stream",
     "text": [
      "[1, 4, 9, 16]\n",
      "[9, 144, 1156]\n"
     ]
    }
   ],
   "source": [
    "#4. Lambdas and Map.\n",
    "# write a function that uses map and a lambda function to return a list where each element is squared. \n",
    "\n",
    "def square_list(to_be_squared_list):\n",
    "    # filter out the numbers if its a mixed list \n",
    "    filtered_numbers = filter(lambda x: isinstance(x, (int,float)), to_be_squared_list)\n",
    "    # map -> it applies the provided function to each item in one or more iterables.\n",
    "    squared_numbers = map(lambda x: x**2, filtered_numbers)\n",
    "\n",
    "    return list(squared_numbers) # squared_number is a map iterator so returning it after converting to list.\n",
    "\n",
    "\n",
    "print(square_list([1,2,3,4]))\n",
    "\n",
    "print(square_list([\"2\",\"4\",3,12,34])) # this is a mixed_list\n",
    "\n"
   ]
  },
  {
   "cell_type": "code",
   "execution_count": 33,
   "id": "0be7464b",
   "metadata": {},
   "outputs": [
    {
     "name": "stdout",
     "output_type": "stream",
     "text": [
      "[1, 3]\n",
      "[1, 3, 5, 5, 5, 5, 9, 7]\n"
     ]
    }
   ],
   "source": [
    "#5. filter and maps\n",
    "# Write a function that filters out all odd numbers from a list using filter and a lambda function \n",
    "\n",
    "def filter_odd_number(list_of_numbers):\n",
    "    # filtering the numbers if its a mixed list\n",
    "    filtered_numbers = filter(lambda x: isinstance(x, (int,float)), list_of_numbers)\n",
    "    # using bitwise operator & to check if x is odd, it works because in binary odd number ends with 1(least significant bit), and only 1 & 1 = 1 so that tells us x is odd.\n",
    "    filtered_odd_numbers = filter(lambda x: (x & 1 == 1), filtered_numbers)\n",
    "    return list(filtered_odd_numbers)\n",
    "\n",
    "list_of_numbers = [1,2,3,4]\n",
    "print(filter_odd_number(list_of_numbers))\n",
    "print(filter_odd_number([1,2,2,2,3,5,5,5,5,\"7\",9,7]))\n",
    "\n"
   ]
  },
  {
   "cell_type": "code",
   "execution_count": 42,
   "id": "4deb42f0",
   "metadata": {},
   "outputs": [
    {
     "name": "stdout",
     "output_type": "stream",
     "text": [
      "[1, 4, 9, 16]\n"
     ]
    }
   ],
   "source": [
    "#6. Basic list comprehension\n",
    "# create a list comprehension that takes a list of numbers and returns a list of their squares \n",
    "\n",
    "def squared_list(to_be_squared_list):\n",
    "    return [x**2 for x in to_be_squared_list]\n",
    "\n",
    "print(squared_list([1,2,3,4]))\n",
    "\n",
    "\n"
   ]
  },
  {
   "cell_type": "code",
   "execution_count": 48,
   "id": "b9b44c35",
   "metadata": {},
   "outputs": [
    {
     "name": "stdout",
     "output_type": "stream",
     "text": [
      "[2, 4, 6, 8, 10, 12, 14, 16, 18, 20]\n",
      "[2, 4, 6, 8, 10]\n"
     ]
    }
   ],
   "source": [
    "#7. List comprehension with condition.\n",
    "# use a list comprehension to create a list of even numbers from 1 to 20 \n",
    "\n",
    "def create_even_numbers(start,end):\n",
    "    return [x for x in range(start,end + 1) if (x & 1 == 0)]\n",
    "\n",
    "print(create_even_numbers(1,20))\n",
    "print(create_even_numbers(1,10))\n",
    "\n",
    "\n"
   ]
  },
  {
   "cell_type": "code",
   "execution_count": 55,
   "id": "ba01bc51",
   "metadata": {},
   "outputs": [],
   "source": [
    "#8. using os and time modules.\n",
    "# write a function file_operations that creats a directory named \"test folder\" using os.makedirs(). Then, pause the execution for 3 seconds using time.sleep(), and finally, delete the directory using os.rmdir()\n",
    "\n",
    "import os\n",
    "import time as time\n",
    "\n",
    "def file_operations():\n",
    "    os.makedirs(\"test_folder\")  # creates test_folder in current working directory.\n",
    "    time.sleep(3) # stops execution for 3 seconds\n",
    "    os.rmdir(\"test_folder\") # deletes the test_folder \n",
    "\n",
    "file_operations()"
   ]
  },
  {
   "cell_type": "code",
   "execution_count": 56,
   "id": "867fe481",
   "metadata": {},
   "outputs": [
    {
     "name": "stdout",
     "output_type": "stream",
     "text": [
      "paused execution\n"
     ]
    }
   ],
   "source": [
    "#9. Importing specific functions.\n",
    "from time import sleep as pause\n",
    "pause(2)\n",
    "print(\"paused execution\")"
   ]
  },
  {
   "cell_type": "code",
   "execution_count": 74,
   "id": "2fe4d37a",
   "metadata": {},
   "outputs": [
    {
     "name": "stdout",
     "output_type": "stream",
     "text": [
      "[1, 2, 2, 3, 3, 2, 3, 4, 5, 6]\n",
      "[1, 2, 3, 4, 5, 6]\n",
      "[1, 2, 3, 4, 5]\n"
     ]
    }
   ],
   "source": [
    "#10. Recursive function with *args and kwargs(flattening a list)\n",
    "# write a recursive function flatten_list that can flatten a nested list of any depth using *args and **kwargs \n",
    "\n",
    "def flatten_list(nested_list):\n",
    "    flat_list = [] # stores the element of nested list.\n",
    "    for item in nested_list:\n",
    "        # check if its a list\n",
    "        if(isinstance(item,list)):\n",
    "            flat_list.extend(flatten_list(item)) # recursive call to flatten_list if item is a list\n",
    "        else:\n",
    "            flat_list.append(item) # appending non-list items\n",
    "    \n",
    "    return flat_list\n",
    "\n",
    "nested_list = [[1,2,[2,3]],3,[2,3,4],[5,6]]\n",
    "flat_list = flatten_list(nested_list)\n",
    "print(flat_list)\n",
    "\n",
    "print(flatten_list([1, [2, 3], [[4, 5], 6]]))\n",
    "print(flatten_list([[1, 2], [3, [4, [5]]]]))\n",
    "\n",
    "\n"
   ]
  }
 ],
 "metadata": {
  "kernelspec": {
   "display_name": "Python 3 (ipykernel)",
   "language": "python",
   "name": "python3"
  },
  "language_info": {
   "codemirror_mode": {
    "name": "ipython",
    "version": 3
   },
   "file_extension": ".py",
   "mimetype": "text/x-python",
   "name": "python",
   "nbconvert_exporter": "python",
   "pygments_lexer": "ipython3",
   "version": "3.10.12"
  }
 },
 "nbformat": 4,
 "nbformat_minor": 5
}
